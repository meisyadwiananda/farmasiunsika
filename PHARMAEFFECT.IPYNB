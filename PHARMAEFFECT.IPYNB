{
 "cells": [
  {
   "cell_type": "markdown",
   "metadata": {},
   "source": [
    "1. Tentukan library yang digunakan"
   ]
  },
  {
   "cell_type": "code",
   "execution_count": 1,
   "metadata": {},
   "outputs": [],
   "source": [
    "import numpy as np\n",
    "import pandas as pd\n",
    "from sklearn.preprocessing import StandardScaler\n",
    "from sklearn.model_selection import train_test_split\n",
    "from sklearn import svm\n",
    "from sklearn.metrics import accuracy_score"
   ]
  },
  {
   "cell_type": "markdown",
   "metadata": {},
   "source": [
    "2. Load dataset"
   ]
  },
  {
   "cell_type": "code",
   "execution_count": 3,
   "metadata": {},
   "outputs": [],
   "source": [
    "PHARMAEFFECT_dataset = pd.read_csv('PHARMAEFFECT.csv')"
   ]
  },
  {
   "cell_type": "code",
   "execution_count": 4,
   "metadata": {},
   "outputs": [
    {
     "data": {
      "text/html": [
       "<div>\n",
       "<style scoped>\n",
       "    .dataframe tbody tr th:only-of-type {\n",
       "        vertical-align: middle;\n",
       "    }\n",
       "\n",
       "    .dataframe tbody tr th {\n",
       "        vertical-align: top;\n",
       "    }\n",
       "\n",
       "    .dataframe thead th {\n",
       "        text-align: right;\n",
       "    }\n",
       "</style>\n",
       "<table border=\"1\" class=\"dataframe\">\n",
       "  <thead>\n",
       "    <tr style=\"text-align: right;\">\n",
       "      <th></th>\n",
       "      <th>Gejala</th>\n",
       "      <th>Penyakit</th>\n",
       "      <th>Obat yang Direkomendasikan</th>\n",
       "      <th>Efektivitas Obat (1.0-4.8)</th>\n",
       "    </tr>\n",
       "  </thead>\n",
       "  <tbody>\n",
       "    <tr>\n",
       "      <th>0</th>\n",
       "      <td>Perut Kembung</td>\n",
       "      <td>Gastritis</td>\n",
       "      <td>Antasida atau Omeprazole</td>\n",
       "      <td>4.0</td>\n",
       "    </tr>\n",
       "    <tr>\n",
       "      <th>1</th>\n",
       "      <td>Demam</td>\n",
       "      <td>Flu</td>\n",
       "      <td>Paracetamol atau Ibuprofen</td>\n",
       "      <td>4.5</td>\n",
       "    </tr>\n",
       "    <tr>\n",
       "      <th>2</th>\n",
       "      <td>Batuk</td>\n",
       "      <td>Infeksi Saluran Pernapasan</td>\n",
       "      <td>Dextromethorphan atau Guaifenesin</td>\n",
       "      <td>4.2</td>\n",
       "    </tr>\n",
       "    <tr>\n",
       "      <th>3</th>\n",
       "      <td>Batuk Kering</td>\n",
       "      <td>Iritasi Tenggorokan</td>\n",
       "      <td>Dextromethorphan atau Antihistamin</td>\n",
       "      <td>4.1</td>\n",
       "    </tr>\n",
       "    <tr>\n",
       "      <th>4</th>\n",
       "      <td>Batuk Berdahak</td>\n",
       "      <td>Infeksi Saluran Pernapasan</td>\n",
       "      <td>Guaifenesin atau Bromhexine</td>\n",
       "      <td>4.3</td>\n",
       "    </tr>\n",
       "  </tbody>\n",
       "</table>\n",
       "</div>"
      ],
      "text/plain": [
       "           Gejala                     Penyakit  \\\n",
       "0   Perut Kembung                    Gastritis   \n",
       "1           Demam                          Flu   \n",
       "2           Batuk   Infeksi Saluran Pernapasan   \n",
       "3    Batuk Kering          Iritasi Tenggorokan   \n",
       "4  Batuk Berdahak   Infeksi Saluran Pernapasan   \n",
       "\n",
       "            Obat yang Direkomendasikan  Efektivitas Obat (1.0-4.8)  \n",
       "0             Antasida atau Omeprazole                         4.0  \n",
       "1           Paracetamol atau Ibuprofen                         4.5  \n",
       "2    Dextromethorphan atau Guaifenesin                         4.2  \n",
       "3   Dextromethorphan atau Antihistamin                         4.1  \n",
       "4          Guaifenesin atau Bromhexine                         4.3  "
      ]
     },
     "execution_count": 4,
     "metadata": {},
     "output_type": "execute_result"
    }
   ],
   "source": [
    "PHARMAEFFECT_dataset.head()"
   ]
  },
  {
   "cell_type": "code",
   "execution_count": 5,
   "metadata": {},
   "outputs": [
    {
     "data": {
      "text/plain": [
       "(20, 4)"
      ]
     },
     "execution_count": 5,
     "metadata": {},
     "output_type": "execute_result"
    }
   ],
   "source": [
    "PHARMAEFFECT_dataset.shape"
   ]
  },
  {
   "cell_type": "code",
   "execution_count": 9,
   "metadata": {},
   "outputs": [
    {
     "data": {
      "text/plain": [
       "Efektivitas Obat (1.0-4.8)\n",
       "4.3    5\n",
       "4.0    4\n",
       "4.2    3\n",
       "4.1    3\n",
       "4.5    2\n",
       "4.4    2\n",
       "3.8    1\n",
       "Name: count, dtype: int64"
      ]
     },
     "execution_count": 9,
     "metadata": {},
     "output_type": "execute_result"
    }
   ],
   "source": [
    "PHARMAEFFECT_dataset['Efektivitas Obat (1.0-4.8)'].value_counts()"
   ]
  },
  {
   "cell_type": "code",
   "execution_count": 16,
   "metadata": {},
   "outputs": [],
   "source": [
    "# memisahkan data dan label\n",
    "x = PHARMAEFFECT_dataset['Gejala']\n",
    "y = PHARMAEFFECT_dataset.drop(columns='Gejala')"
   ]
  },
  {
   "cell_type": "code",
   "execution_count": 17,
   "metadata": {},
   "outputs": [
    {
     "name": "stdout",
     "output_type": "stream",
     "text": [
      "0         Perut Kembung\n",
      "1                 Demam\n",
      "2                 Batuk\n",
      "3          Batuk Kering\n",
      "4        Batuk Berdahak\n",
      "5                 Pilek\n",
      "6          Sakit Kepala\n",
      "7                Pusing\n",
      "8           Nyeri Sendi\n",
      "9            Nyeri Otot\n",
      "10           Sakit Gigi\n",
      "11    Sakit Tenggorokan\n",
      "12              Mimisan\n",
      "13                Diare\n",
      "14             Sembelit\n",
      "15         Asam Lambung\n",
      "16               Muntah\n",
      "17          Gatal-Gatal\n",
      "18           Ruam Kulit\n",
      "19          Sesak Napas\n",
      "Name: Gejala, dtype: object\n"
     ]
    }
   ],
   "source": [
    "print(x)"
   ]
  },
  {
   "cell_type": "code",
   "execution_count": 18,
   "metadata": {},
   "outputs": [
    {
     "name": "stdout",
     "output_type": "stream",
     "text": [
      "                       Penyakit                Obat yang Direkomendasikan  \\\n",
      "0                     Gastritis                  Antasida atau Omeprazole   \n",
      "1                           Flu                Paracetamol atau Ibuprofen   \n",
      "2    Infeksi Saluran Pernapasan         Dextromethorphan atau Guaifenesin   \n",
      "3           Iritasi Tenggorokan        Dextromethorphan atau Antihistamin   \n",
      "4    Infeksi Saluran Pernapasan               Guaifenesin atau Bromhexine   \n",
      "5                           Flu             Antihistamin atau Dekongestan   \n",
      "6                       Migrain                Paracetamol atau Ibuprofen   \n",
      "7                       Vertigo           Betahistine atau Dimenhydrinate   \n",
      "8                      Artritis                   Ibuprofen atau Naproxen   \n",
      "9                   Cedera Otot                Paracetamol atau Ibuprofen   \n",
      "10                 Infeksi Gigi             Ibuprofen atau Asam Mefenamat   \n",
      "11           Radang Tenggorokan                   Lozenges atau Ibuprofen   \n",
      "12               Iritasi Hidung              Oksimetazolin atau Air Garam   \n",
      "13           Infeksi Pencernaan                    Loperamide atau Oralit   \n",
      "14                   Konstipasi              Laksatif atau Serat Tambahan   \n",
      "15                         GERD                Omeprazole atau Ranitidine   \n",
      "16                         Mual           Domperidone atau Metoclopramide   \n",
      "17                       Alergi                Cetirizine atau Loratadine   \n",
      "18                   Dermatitis           Hidrokortison atau Antihistamin   \n",
      "19                         Asma   Salbutamol atau Kortikosteroid Inhalasi   \n",
      "\n",
      "    Efektivitas Obat (1.0-4.8)  \n",
      "0                          4.0  \n",
      "1                          4.5  \n",
      "2                          4.2  \n",
      "3                          4.1  \n",
      "4                          4.3  \n",
      "5                          4.0  \n",
      "6                          4.3  \n",
      "7                          4.1  \n",
      "8                          4.3  \n",
      "9                          4.0  \n",
      "10                         4.4  \n",
      "11                         4.2  \n",
      "12                         3.8  \n",
      "13                         4.3  \n",
      "14                         4.1  \n",
      "15                         4.4  \n",
      "16                         4.2  \n",
      "17                         4.3  \n",
      "18                         4.0  \n",
      "19                         4.5  \n"
     ]
    }
   ],
   "source": [
    "print(y)"
   ]
  },
  {
   "cell_type": "markdown",
   "metadata": {},
   "source": [
    "3. Standarisasi data"
   ]
  },
  {
   "cell_type": "code",
   "execution_count": 19,
   "metadata": {},
   "outputs": [],
   "source": [
    "scaler = StandardScaler()"
   ]
  }
 ],
 "metadata": {
  "kernelspec": {
   "display_name": "base",
   "language": "python",
   "name": "python3"
  },
  "language_info": {
   "codemirror_mode": {
    "name": "ipython",
    "version": 3
   },
   "file_extension": ".py",
   "mimetype": "text/x-python",
   "name": "python",
   "nbconvert_exporter": "python",
   "pygments_lexer": "ipython3",
   "version": "3.12.7"
  }
 },
 "nbformat": 4,
 "nbformat_minor": 2
}
